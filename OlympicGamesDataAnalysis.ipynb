{
 "cells": [
  {
   "cell_type": "markdown",
   "metadata": {
    "colab_type": "text",
    "id": "UGqk3SzXsMR3",
    "outputExpanded": false
   },
   "source": [
    "# SI 618 - Homework #1: Data Manipulation"
   ]
  },
  {
   "cell_type": "markdown",
   "metadata": {},
   "source": [
    "### IMPORTANT: Replace ```?``` in the following code with your uniqname."
   ]
  },
  {
   "cell_type": "code",
   "execution_count": 1,
   "metadata": {
    "collapsed": false
   },
   "outputs": [],
   "source": [
    "MY_UNIQNAME = 'austinam'"
   ]
  },
  {
   "cell_type": "markdown",
   "metadata": {
    "outputExpanded": false
   },
   "source": [
    "## Background"
   ]
  },
  {
   "cell_type": "markdown",
   "metadata": {
    "outputExpanded": false
   },
   "source": [
    "This homework assignment focuses on the analysis of historical data from the Olympic games.  The description of the data includes the following:\n",
    "> This is a historical dataset on the modern Olympic Games, including all the Games from Athens 1896 to Rio 2016. I scraped this data from www.sports-reference.com in May 2018."
   ]
  },
  {
   "cell_type": "markdown",
   "metadata": {
    "outputExpanded": false
   },
   "source": [
    "Your main task in this assignment is to explore the data *using the data\n",
    "manipulation methods we covered in class* as well as those in the assigned readings.  You may need to consult pandas documentation, Stack Overflow, or other online resources.  \n",
    "\n",
    "** You should also feel free to ask questions on the class Slack channel!**"
   ]
  },
  {
   "cell_type": "markdown",
   "metadata": {
    "colab_type": "text",
    "id": "pbqbtPreaCjs",
    "outputExpanded": false
   },
   "source": [
    "A total of 100 points is available in this homework assignment, consisting of:\n",
    "- 80 points for completing the specific homework questions. More comprehensive \n",
    "answers will tend to gain more points.\n",
    "- 10 points for the overall quality of spelling, grammar, punctuation, and style of written responses.  (see https://faculty.washington.edu/heagerty/Courses/b572/public/StrunkWhite.pdf for a detailed specifications).\n",
    "- 10 points for creating code that conforms to [PEP 8](https://www.python.org/dev/peps/pep-0008/) guidelines.  You should review those guidelines before proceding with the assignment.\n"
   ]
  },
  {
   "cell_type": "markdown",
   "metadata": {
    "colab_type": "text",
    "id": "Pr9WBUQyZY4V",
    "outputExpanded": false
   },
   "source": [
    "## 0. Download the data from: \n",
    "- https://www.kaggle.com/heesoo37/120-years-of-olympic-history-athletes-and-results\n",
    "- https://en.wikipedia.org/wiki/List_of_Olympic_Games_host_cities (note: we suggest you use the [read_html](https://pandas.pydata.org/pandas-docs/stable/generated/pandas.read_html.html) function to load the data into a DataFrame."
   ]
  },
  {
   "cell_type": "code",
   "execution_count": 42,
   "metadata": {},
   "outputs": [],
   "source": [
    "import numpy as np\n",
    "import pandas as pd\n",
    "%matplotlib inline"
   ]
  },
  {
   "cell_type": "raw",
   "metadata": {},
   "source": [
    "from pandas import Series\n",
    "from pandas import DataFrame"
   ]
  },
  {
   "cell_type": "code",
   "execution_count": 347,
   "metadata": {},
   "outputs": [
    {
     "data": {
      "text/html": [
       "<div>\n",
       "<style scoped>\n",
       "    .dataframe tbody tr th:only-of-type {\n",
       "        vertical-align: middle;\n",
       "    }\n",
       "\n",
       "    .dataframe tbody tr th {\n",
       "        vertical-align: top;\n",
       "    }\n",
       "\n",
       "    .dataframe thead th {\n",
       "        text-align: right;\n",
       "    }\n",
       "</style>\n",
       "<table border=\"1\" class=\"dataframe\">\n",
       "  <thead>\n",
       "    <tr style=\"text-align: right;\">\n",
       "      <th></th>\n",
       "      <th>City</th>\n",
       "      <th>Country</th>\n",
       "      <th>Continent</th>\n",
       "      <th>Summer (Olympiad)</th>\n",
       "      <th>Winter</th>\n",
       "      <th>Summer (Youth)</th>\n",
       "      <th>Winter (Youth)</th>\n",
       "      <th>Year</th>\n",
       "      <th>Opening Ceremony</th>\n",
       "      <th>Closing Ceremony</th>\n",
       "    </tr>\n",
       "  </thead>\n",
       "  <tbody>\n",
       "    <tr>\n",
       "      <th>1</th>\n",
       "      <td>Athens</td>\n",
       "      <td>Greece</td>\n",
       "      <td>Europe</td>\n",
       "      <td>NaN</td>\n",
       "      <td>NaN</td>\n",
       "      <td>NaN</td>\n",
       "      <td>NaN</td>\n",
       "      <td>1896</td>\n",
       "      <td>April 6</td>\n",
       "      <td>April 15</td>\n",
       "    </tr>\n",
       "    <tr>\n",
       "      <th>2</th>\n",
       "      <td>Paris</td>\n",
       "      <td>France</td>\n",
       "      <td>Europe</td>\n",
       "      <td>NaN</td>\n",
       "      <td>NaN</td>\n",
       "      <td>NaN</td>\n",
       "      <td>NaN</td>\n",
       "      <td>1900</td>\n",
       "      <td>May 14</td>\n",
       "      <td>October 28</td>\n",
       "    </tr>\n",
       "  </tbody>\n",
       "</table>\n",
       "</div>"
      ],
      "text/plain": [
       "0    City Country Continent Summer (Olympiad) Winter Summer (Youth)  \\\n",
       "1  Athens  Greece    Europe               NaN    NaN            NaN   \n",
       "2   Paris  France    Europe               NaN    NaN            NaN   \n",
       "\n",
       "0 Winter (Youth)  Year Opening Ceremony Closing Ceremony  \n",
       "1            NaN  1896          April 6         April 15  \n",
       "2            NaN  1900           May 14       October 28  "
      ]
     },
     "execution_count": 347,
     "metadata": {},
     "output_type": "execute_result"
    }
   ],
   "source": [
    "olympic_cities = pd.read_html('http://en.wikipedia.org/wiki/List_of_Olympic_Games_host_cities', match='.+', flavor=None, header=None, index_col=None,  skiprows=None, attrs=None, parse_dates=False, tupleize_cols=None, thousands=', ', encoding=None, decimal='.', converters=None, na_values=None, keep_default_na=True, displayed_only=True)\n",
    "city_info = olympic_cities[1]\n",
    "headers = city_info.iloc[0]\n",
    "city_info = city_info[1:]\n",
    "city_info.columns = headers\n",
    "city_info.head(2)"
   ]
  },
  {
   "cell_type": "code",
   "execution_count": 348,
   "metadata": {},
   "outputs": [
    {
     "data": {
      "text/html": [
       "<div>\n",
       "<style scoped>\n",
       "    .dataframe tbody tr th:only-of-type {\n",
       "        vertical-align: middle;\n",
       "    }\n",
       "\n",
       "    .dataframe tbody tr th {\n",
       "        vertical-align: top;\n",
       "    }\n",
       "\n",
       "    .dataframe thead th {\n",
       "        text-align: right;\n",
       "    }\n",
       "</style>\n",
       "<table border=\"1\" class=\"dataframe\">\n",
       "  <thead>\n",
       "    <tr style=\"text-align: right;\">\n",
       "      <th></th>\n",
       "      <th>NOC</th>\n",
       "      <th>region</th>\n",
       "      <th>notes</th>\n",
       "    </tr>\n",
       "  </thead>\n",
       "  <tbody>\n",
       "    <tr>\n",
       "      <th>0</th>\n",
       "      <td>AFG</td>\n",
       "      <td>Afghanistan</td>\n",
       "      <td>NaN</td>\n",
       "    </tr>\n",
       "    <tr>\n",
       "      <th>1</th>\n",
       "      <td>AHO</td>\n",
       "      <td>Curacao</td>\n",
       "      <td>Netherlands Antilles</td>\n",
       "    </tr>\n",
       "  </tbody>\n",
       "</table>\n",
       "</div>"
      ],
      "text/plain": [
       "   NOC       region                 notes\n",
       "0  AFG  Afghanistan                   NaN\n",
       "1  AHO      Curacao  Netherlands Antilles"
      ]
     },
     "execution_count": 348,
     "metadata": {},
     "output_type": "execute_result"
    }
   ],
   "source": [
    "region_info = pd.read_csv(\"noc_regions.csv\")\n",
    "region_info.head(2)"
   ]
  },
  {
   "cell_type": "code",
   "execution_count": 349,
   "metadata": {},
   "outputs": [
    {
     "data": {
      "text/html": [
       "<div>\n",
       "<style scoped>\n",
       "    .dataframe tbody tr th:only-of-type {\n",
       "        vertical-align: middle;\n",
       "    }\n",
       "\n",
       "    .dataframe tbody tr th {\n",
       "        vertical-align: top;\n",
       "    }\n",
       "\n",
       "    .dataframe thead th {\n",
       "        text-align: right;\n",
       "    }\n",
       "</style>\n",
       "<table border=\"1\" class=\"dataframe\">\n",
       "  <thead>\n",
       "    <tr style=\"text-align: right;\">\n",
       "      <th></th>\n",
       "      <th>ID</th>\n",
       "      <th>Name</th>\n",
       "      <th>Sex</th>\n",
       "      <th>Age</th>\n",
       "      <th>Height</th>\n",
       "      <th>Weight</th>\n",
       "      <th>Team</th>\n",
       "      <th>NOC</th>\n",
       "      <th>Games</th>\n",
       "      <th>Year</th>\n",
       "      <th>Season</th>\n",
       "      <th>City</th>\n",
       "      <th>Sport</th>\n",
       "      <th>Event</th>\n",
       "      <th>Medal</th>\n",
       "    </tr>\n",
       "  </thead>\n",
       "  <tbody>\n",
       "    <tr>\n",
       "      <th>0</th>\n",
       "      <td>1</td>\n",
       "      <td>A Dijiang</td>\n",
       "      <td>M</td>\n",
       "      <td>24.0</td>\n",
       "      <td>180.0</td>\n",
       "      <td>80.0</td>\n",
       "      <td>China</td>\n",
       "      <td>CHN</td>\n",
       "      <td>1992 Summer</td>\n",
       "      <td>1992</td>\n",
       "      <td>Summer</td>\n",
       "      <td>Barcelona</td>\n",
       "      <td>Basketball</td>\n",
       "      <td>Basketball Men's Basketball</td>\n",
       "      <td>NaN</td>\n",
       "    </tr>\n",
       "    <tr>\n",
       "      <th>1</th>\n",
       "      <td>2</td>\n",
       "      <td>A Lamusi</td>\n",
       "      <td>M</td>\n",
       "      <td>23.0</td>\n",
       "      <td>170.0</td>\n",
       "      <td>60.0</td>\n",
       "      <td>China</td>\n",
       "      <td>CHN</td>\n",
       "      <td>2012 Summer</td>\n",
       "      <td>2012</td>\n",
       "      <td>Summer</td>\n",
       "      <td>London</td>\n",
       "      <td>Judo</td>\n",
       "      <td>Judo Men's Extra-Lightweight</td>\n",
       "      <td>NaN</td>\n",
       "    </tr>\n",
       "  </tbody>\n",
       "</table>\n",
       "</div>"
      ],
      "text/plain": [
       "   ID       Name Sex   Age  Height  Weight   Team  NOC        Games  Year  \\\n",
       "0   1  A Dijiang   M  24.0   180.0    80.0  China  CHN  1992 Summer  1992   \n",
       "1   2   A Lamusi   M  23.0   170.0    60.0  China  CHN  2012 Summer  2012   \n",
       "\n",
       "   Season       City       Sport                         Event Medal  \n",
       "0  Summer  Barcelona  Basketball   Basketball Men's Basketball   NaN  \n",
       "1  Summer     London        Judo  Judo Men's Extra-Lightweight   NaN  "
      ]
     },
     "execution_count": 349,
     "metadata": {},
     "output_type": "execute_result"
    }
   ],
   "source": [
    "athlete_info = pd.read_csv(\"athlete_events.csv\")\n",
    "athlete_info.head(2)"
   ]
  },
  {
   "cell_type": "markdown",
   "metadata": {
    "colab_type": "text",
    "id": "8EV1PilWtl0Z",
    "outputExpanded": false
   },
   "source": [
    "## 1. Answer the questions below. \n",
    "For each question, you should\n",
    "1. Write code using Python and pandas that can help you answer the following questions, and\n",
    "2. Explain your answers in plain English. You should use complete sentences that would be understood by an educated professional who is not necessarily a data scientist (like a product manager)."
   ]
  },
  {
   "cell_type": "markdown",
   "metadata": {
    "colab_type": "text",
    "id": "PfjXDtHoabcS",
    "outputExpanded": false
   },
   "source": [
    "### 5 pt: Describe the dataset. \n",
    "- How many number rows and columns do you see in each data frame? \n",
    "- Are there any other interesting descriptive details?"
   ]
  },
  {
   "cell_type": "code",
   "execution_count": 351,
   "metadata": {
    "colab": {},
    "colab_type": "code",
    "id": "ttHwVC8ot5Ur",
    "outputExpanded": false
   },
   "outputs": [
    {
     "name": "stdout",
     "output_type": "stream",
     "text": [
      "City data frame shape\n",
      "(68, 10)\n",
      "Regions data frame shape\n",
      "(230, 3)\n",
      "Athlete data frame shape/description\n",
      "(271116, 15)\n",
      "                  ID            Age         Height         Weight  \\\n",
      "count  271116.000000  261642.000000  210945.000000  208241.000000   \n",
      "mean    68248.954396      25.556898     175.338970      70.702393   \n",
      "std     39022.286345       6.393561      10.518462      14.348020   \n",
      "min         1.000000      10.000000     127.000000      25.000000   \n",
      "25%     34643.000000      21.000000     168.000000      60.000000   \n",
      "50%     68205.000000      24.000000     175.000000      70.000000   \n",
      "75%    102097.250000      28.000000     183.000000      79.000000   \n",
      "max    135571.000000      97.000000     226.000000     214.000000   \n",
      "\n",
      "                Year  \n",
      "count  271116.000000  \n",
      "mean     1978.378480  \n",
      "std        29.877632  \n",
      "min      1896.000000  \n",
      "25%      1960.000000  \n",
      "50%      1988.000000  \n",
      "75%      2002.000000  \n",
      "max      2016.000000  \n"
     ]
    },
    {
     "data": {
      "text/html": [
       "<div>\n",
       "<style scoped>\n",
       "    .dataframe tbody tr th:only-of-type {\n",
       "        vertical-align: middle;\n",
       "    }\n",
       "\n",
       "    .dataframe tbody tr th {\n",
       "        vertical-align: top;\n",
       "    }\n",
       "\n",
       "    .dataframe thead th {\n",
       "        text-align: right;\n",
       "    }\n",
       "</style>\n",
       "<table border=\"1\" class=\"dataframe\">\n",
       "  <thead>\n",
       "    <tr style=\"text-align: right;\">\n",
       "      <th></th>\n",
       "      <th>ID</th>\n",
       "      <th>Name</th>\n",
       "      <th>Sex</th>\n",
       "      <th>Age</th>\n",
       "      <th>Height</th>\n",
       "      <th>Weight</th>\n",
       "      <th>Team</th>\n",
       "      <th>NOC</th>\n",
       "      <th>Games</th>\n",
       "      <th>Year</th>\n",
       "      <th>Season</th>\n",
       "      <th>City</th>\n",
       "      <th>Sport</th>\n",
       "      <th>Event</th>\n",
       "      <th>Medal</th>\n",
       "    </tr>\n",
       "  </thead>\n",
       "  <tbody>\n",
       "    <tr>\n",
       "      <th>67840</th>\n",
       "      <td>34666</td>\n",
       "      <td>Harald Fereberger</td>\n",
       "      <td>M</td>\n",
       "      <td>23.0</td>\n",
       "      <td>167.0</td>\n",
       "      <td>70.0</td>\n",
       "      <td>30. Februar</td>\n",
       "      <td>AUT</td>\n",
       "      <td>1952 Summer</td>\n",
       "      <td>1952</td>\n",
       "      <td>Summer</td>\n",
       "      <td>Helsinki</td>\n",
       "      <td>Sailing</td>\n",
       "      <td>Sailing Mixed Two Person Keelboat</td>\n",
       "      <td>NaN</td>\n",
       "    </tr>\n",
       "    <tr>\n",
       "      <th>254456</th>\n",
       "      <td>127384</td>\n",
       "      <td>Harald von Musil</td>\n",
       "      <td>M</td>\n",
       "      <td>44.0</td>\n",
       "      <td>176.0</td>\n",
       "      <td>NaN</td>\n",
       "      <td>30. Februar</td>\n",
       "      <td>AUT</td>\n",
       "      <td>1952 Summer</td>\n",
       "      <td>1952</td>\n",
       "      <td>Summer</td>\n",
       "      <td>Helsinki</td>\n",
       "      <td>Sailing</td>\n",
       "      <td>Sailing Mixed Two Person Keelboat</td>\n",
       "      <td>NaN</td>\n",
       "    </tr>\n",
       "    <tr>\n",
       "      <th>64703</th>\n",
       "      <td>33106</td>\n",
       "      <td>Jos Eustaquio Luis Francisco Escandn y Barrn</td>\n",
       "      <td>M</td>\n",
       "      <td>38.0</td>\n",
       "      <td>NaN</td>\n",
       "      <td>NaN</td>\n",
       "      <td>A North American Team</td>\n",
       "      <td>MEX</td>\n",
       "      <td>1900 Summer</td>\n",
       "      <td>1900</td>\n",
       "      <td>Summer</td>\n",
       "      <td>Paris</td>\n",
       "      <td>Polo</td>\n",
       "      <td>Polo Men's Polo</td>\n",
       "      <td>Bronze</td>\n",
       "    </tr>\n",
       "    <tr>\n",
       "      <th>263255</th>\n",
       "      <td>131733</td>\n",
       "      <td>William Hayden Wright</td>\n",
       "      <td>M</td>\n",
       "      <td>NaN</td>\n",
       "      <td>NaN</td>\n",
       "      <td>NaN</td>\n",
       "      <td>A North American Team</td>\n",
       "      <td>USA</td>\n",
       "      <td>1900 Summer</td>\n",
       "      <td>1900</td>\n",
       "      <td>Summer</td>\n",
       "      <td>Paris</td>\n",
       "      <td>Polo</td>\n",
       "      <td>Polo Men's Polo</td>\n",
       "      <td>Bronze</td>\n",
       "    </tr>\n",
       "    <tr>\n",
       "      <th>64706</th>\n",
       "      <td>33109</td>\n",
       "      <td>Jos Pablo Eustaquio Manuel Francisco Escandn y...</td>\n",
       "      <td>M</td>\n",
       "      <td>44.0</td>\n",
       "      <td>NaN</td>\n",
       "      <td>NaN</td>\n",
       "      <td>A North American Team</td>\n",
       "      <td>MEX</td>\n",
       "      <td>1900 Summer</td>\n",
       "      <td>1900</td>\n",
       "      <td>Summer</td>\n",
       "      <td>Paris</td>\n",
       "      <td>Polo</td>\n",
       "      <td>Polo Men's Polo</td>\n",
       "      <td>Bronze</td>\n",
       "    </tr>\n",
       "  </tbody>\n",
       "</table>\n",
       "</div>"
      ],
      "text/plain": [
       "            ID                                               Name Sex   Age  \\\n",
       "67840    34666                                  Harald Fereberger   M  23.0   \n",
       "254456  127384                                   Harald von Musil   M  44.0   \n",
       "64703    33106       Jos Eustaquio Luis Francisco Escandn y Barrn   M  38.0   \n",
       "263255  131733                              William Hayden Wright   M   NaN   \n",
       "64706    33109  Jos Pablo Eustaquio Manuel Francisco Escandn y...   M  44.0   \n",
       "\n",
       "        Height  Weight                   Team  NOC        Games  Year  Season  \\\n",
       "67840    167.0    70.0            30. Februar  AUT  1952 Summer  1952  Summer   \n",
       "254456   176.0     NaN            30. Februar  AUT  1952 Summer  1952  Summer   \n",
       "64703      NaN     NaN  A North American Team  MEX  1900 Summer  1900  Summer   \n",
       "263255     NaN     NaN  A North American Team  USA  1900 Summer  1900  Summer   \n",
       "64706      NaN     NaN  A North American Team  MEX  1900 Summer  1900  Summer   \n",
       "\n",
       "            City    Sport                              Event   Medal  \n",
       "67840   Helsinki  Sailing  Sailing Mixed Two Person Keelboat     NaN  \n",
       "254456  Helsinki  Sailing  Sailing Mixed Two Person Keelboat     NaN  \n",
       "64703      Paris     Polo                    Polo Men's Polo  Bronze  \n",
       "263255     Paris     Polo                    Polo Men's Polo  Bronze  \n",
       "64706      Paris     Polo                    Polo Men's Polo  Bronze  "
      ]
     },
     "execution_count": 351,
     "metadata": {},
     "output_type": "execute_result"
    }
   ],
   "source": [
    "city_row_column = city_info.shape\n",
    "print('City data frame shape')\n",
    "print(city_row_column)\n",
    "regions_row_column = region_info.shape\n",
    "regions_desc = region_info.describe()\n",
    "print('Regions data frame shape')\n",
    "print(regions_row_column)\n",
    "#print(regions_desc)\n",
    "athletes_row_column = athlete_info.shape\n",
    "athletes_desc = athlete_info.describe()\n",
    "print('Athlete data frame shape/description')\n",
    "print(athletes_row_column)\n",
    "print(athletes_desc)\n",
    "sorted = athlete_info.sort_values('Team')\n",
    "sorted.head()"
   ]
  },
  {
   "cell_type": "markdown",
   "metadata": {
    "colab_type": "text",
    "id": "g1RAXO76uN-A",
    "outputExpanded": false
   },
   "source": [
    "\n",
    "A. How many number rows and columns do you see in each data frame?\n",
    "In the data frame with information from the Wikipedia page about Olympic game host cities, there are 68 rows and 10 columns. In the data frame containing information about regions, there are 230 rows and 3 columns. In the data frame containing information about athletes and the events they participated in there are 27,1116 rows and 15 columns.\n",
    "\n",
    "B. Are there any other interesting descriptive details?\n",
    "In terms of athletes who competed in the Olympics, the youngest competitor was 10 years old, and the oldest was 97 years old. The tables containing the different data sets are not clean, and there are some missing values. For example, in the athlete table there are dates listed as the Team for some individuals, and others are listed as being from just 'A North American Team'. "
   ]
  },
  {
   "cell_type": "markdown",
   "metadata": {
    "colab_type": "text",
    "id": "tbmL9-kta0o4",
    "outputExpanded": false
   },
   "source": [
    "### 5 pt: What is the overall ratio of female to male atheletes? \n",
    "There are multiple ways one could determine the meaning of \"overall\" here, and there isn't necessarily one correct answer. Based on your interpretation, give a justification for the choices you made in your analysis."
   ]
  },
  {
   "cell_type": "code",
   "execution_count": 95,
   "metadata": {
    "colab": {},
    "colab_type": "code",
    "id": "33LcHThyt5_N",
    "outputExpanded": false
   },
   "outputs": [
    {
     "name": "stdout",
     "output_type": "stream",
     "text": [
      "100979\n"
     ]
    }
   ],
   "source": [
    "#print(athlete_info.Sex.unique())\n",
    "#print(athlete_info.Sex.isna().sum())\n",
    "male_ath = athlete_info[(athlete_info.Sex=='M')]\n",
    "male = len(male_ath.Name.unique())\n",
    "print(male)"
   ]
  },
  {
   "cell_type": "code",
   "execution_count": 97,
   "metadata": {},
   "outputs": [
    {
     "name": "stdout",
     "output_type": "stream",
     "text": [
      "33808\n"
     ]
    }
   ],
   "source": [
    "female_ath = athlete_info[(athlete_info.Sex=='F')]\n",
    "female = len(female_ath.Name.unique())\n",
    "print(female)"
   ]
  },
  {
   "cell_type": "code",
   "execution_count": 98,
   "metadata": {},
   "outputs": [
    {
     "data": {
      "text/plain": [
       "0.33480228562374353"
      ]
     },
     "execution_count": 98,
     "metadata": {},
     "output_type": "execute_result"
    }
   ],
   "source": [
    "female/male"
   ]
  },
  {
   "cell_type": "markdown",
   "metadata": {
    "colab_type": "text",
    "id": "FD6-7-D-uWmX",
    "outputExpanded": false
   },
   "source": [
    "The overall ratio of female to male athletes in the Olympics is .33, meaning that more males have competed. This number takes into account only the unique males and females who competed, so if someone competed in multiple events or in different years, they are still only counted once. "
   ]
  },
  {
   "cell_type": "markdown",
   "metadata": {
    "colab_type": "text",
    "id": "0u5VM5ksbCTm",
    "outputExpanded": false
   },
   "source": [
    "### 10 pt: Which athelete competed in most number of events? \n",
    "In which events did the athelete participate, and for what range of years? Which country did the athlete represent?"
   ]
  },
  {
   "cell_type": "code",
   "execution_count": 41,
   "metadata": {
    "colab": {},
    "colab_type": "code",
    "id": "JtI8ru2at6ZU",
    "outputExpanded": false
   },
   "outputs": [
    {
     "name": "stdout",
     "output_type": "stream",
     "text": [
      "Robert Tait McKenzie    58\n",
      "Name: Name, dtype: int64\n",
      "Art Competitions Mixed Sculpturing, Unknown Event         48\n",
      "Art Competitions Mixed Sculpturing, Statues                7\n",
      "Art Competitions Mixed Sculpturing                         1\n",
      "Art Competitions Mixed Sculpturing, Medals And Reliefs     1\n",
      "Art Competitions Mixed Sculpturing, Medals                 1\n",
      "Name: Event, dtype: int64\n",
      "count      58.000000\n",
      "mean     1931.793103\n",
      "std         3.851446\n",
      "min      1912.000000\n",
      "25%      1932.000000\n",
      "50%      1932.000000\n",
      "75%      1932.000000\n",
      "max      1948.000000\n",
      "Name: Year, dtype: float64\n",
      "Canada    58\n",
      "Name: Team, dtype: int64\n"
     ]
    }
   ],
   "source": [
    "print(athlete_info.Name.value_counts().head(1))\n",
    "rob_info = athlete_info[(athlete_info.Name==\"Robert Tait McKenzie\")]\n",
    "print(rob_info.Event.value_counts())\n",
    "print(rob_info.Year.describe())\n",
    "print(rob_info.Team.value_counts())"
   ]
  },
  {
   "cell_type": "markdown",
   "metadata": {
    "colab_type": "text",
    "id": "CCuxztg3uYPQ",
    "outputExpanded": false
   },
   "source": [
    "The athlete that competed in the most number of events was Robert Tait McKenzie, who participated in different Art Competitions Mixed Sculpturing events (statues, medals, medals and reliefs, and unknown). He competed from the years 1912-1948 and represented Canada. "
   ]
  },
  {
   "cell_type": "markdown",
   "metadata": {
    "colab_type": "text",
    "id": "2wH5ikUcbb16",
    "outputExpanded": false
   },
   "source": [
    "### 10 pt: Which sport has the highest median athlete age? \n",
    "To determine this, you might want to plot the median age for each sport. You may want to sort the axes appropriately for your analysis."
   ]
  },
  {
   "cell_type": "code",
   "execution_count": 99,
   "metadata": {
    "colab": {},
    "colab_type": "code",
    "id": "GneWWgFVt62N",
    "outputExpanded": false
   },
   "outputs": [
    {
     "data": {
      "text/plain": [
       "Sport\n",
       "Fencing             28.0\n",
       "Beach Volleyball    29.0\n",
       "Sailing             29.0\n",
       "Tug-Of-War          29.0\n",
       "Skeleton            29.0\n",
       "Curling             30.0\n",
       "Motorboating        31.0\n",
       "Jeu De Paume        31.0\n",
       "Croquet             33.0\n",
       "Equestrianism       33.0\n",
       "Shooting            33.0\n",
       "Polo                35.0\n",
       "Alpinism            38.0\n",
       "Art Competitions    45.0\n",
       "Roque               59.0\n",
       "Name: Age, dtype: float64"
      ]
     },
     "execution_count": 99,
     "metadata": {},
     "output_type": "execute_result"
    }
   ],
   "source": [
    "#athlete_info.Sport.value_counts().plot.hist(bins=50)\n",
    "median_info = athlete_info.groupby(['Sport'])['Age'].median().sort_values().tail(15)\n",
    "median_info"
   ]
  },
  {
   "cell_type": "code",
   "execution_count": 100,
   "metadata": {},
   "outputs": [
    {
     "data": {
      "text/plain": [
       "<matplotlib.axes._subplots.AxesSubplot at 0x111f26cf8>"
      ]
     },
     "execution_count": 100,
     "metadata": {},
     "output_type": "execute_result"
    },
    {
     "data": {
      "image/png": "[encoded data removed]",
      "text/plain": [
       "<Figure size 432x288 with 1 Axes>"
      ]
     },
     "metadata": {},
     "output_type": "display_data"
    }
   ],
   "source": [
    "median_info.plot.bar()"
   ]
  },
  {
   "cell_type": "markdown",
   "metadata": {
    "colab_type": "text",
    "id": "WlWYu2_5uY7K",
    "outputExpanded": false
   },
   "source": [
    "Roque is the sport with the highest median age, which was 59 years old. "
   ]
  },
  {
   "cell_type": "markdown",
   "metadata": {
    "colab_type": "text",
    "id": "wGoiQk8XbqHw",
    "outputExpanded": false
   },
   "source": [
    "### 10 pt: In which events has Jamaica won the most medals?"
   ]
  },
  {
   "cell_type": "code",
   "execution_count": 62,
   "metadata": {
    "colab": {},
    "colab_type": "code",
    "id": "U5jIdE3_t7YA",
    "outputExpanded": false
   },
   "outputs": [
    {
     "name": "stdout",
     "output_type": "stream",
     "text": [
      "[nan 'Gold' 'Bronze' 'Silver']\n"
     ]
    },
    {
     "data": {
      "text/plain": [
       "Athletics Women's 4 x 100 metres Relay    28\n",
       "Athletics Men's 4 x 400 metres Relay      27\n",
       "Athletics Women's 4 x 400 metres Relay    27\n",
       "Athletics Men's 4 x 100 metres Relay      16\n",
       "Athletics Women's 100 metres              13\n",
       "Athletics Women's 200 metres              12\n",
       "Athletics Men's 100 metres                 8\n",
       "Athletics Men's 200 metres                 7\n",
       "Athletics Men's 400 metres                 5\n",
       "Athletics Women's 400 metres Hurdles       3\n",
       "Athletics Women's 400 metres               3\n",
       "Athletics Men's 110 metres Hurdles         2\n",
       "Athletics Men's 400 metres Hurdles         2\n",
       "Athletics Men's 800 metres                 2\n",
       "Athletics Men's Long Jump                  1\n",
       "Cycling Men's 1,000 metres Time Trial      1\n",
       "Name: Event, dtype: int64"
      ]
     },
     "execution_count": 62,
     "metadata": {},
     "output_type": "execute_result"
    }
   ],
   "source": [
    "print(athlete_info.Medal.unique())\n",
    "jam_info = athlete_info[(athlete_info.Team==\"Jamaica\")]\n",
    "jam_medals = jam_info[(jam_info.Medal==\"Gold\") | (jam_info.Medal==\"Bronze\") | (jam_info.Medal==\"Silver\")]\n",
    "jam_medals.Event.value_counts()"
   ]
  },
  {
   "cell_type": "markdown",
   "metadata": {
    "colab_type": "text",
    "id": "yN5zlizIuZa8",
    "outputExpanded": false
   },
   "source": [
    "Jamaica has won the most medals in events that are related to track, including relay races and individual races. The top four events with the highest number of medals are relay races where four athletes participated, which is why the numbers are so large. "
   ]
  },
  {
   "cell_type": "markdown",
   "metadata": {
    "colab_type": "text",
    "id": "lwumWcqTcMCs",
    "outputExpanded": false
   },
   "source": [
    "### 10 pt: Which countries have more female medalists than male medalists?"
   ]
  },
  {
   "cell_type": "code",
   "execution_count": 104,
   "metadata": {
    "colab": {},
    "colab_type": "code",
    "id": "OMnjkk4St77B",
    "outputExpanded": false
   },
   "outputs": [
    {
     "data": {
      "text/html": [
       "<div>\n",
       "<style scoped>\n",
       "    .dataframe tbody tr th:only-of-type {\n",
       "        vertical-align: middle;\n",
       "    }\n",
       "\n",
       "    .dataframe tbody tr th {\n",
       "        vertical-align: top;\n",
       "    }\n",
       "\n",
       "    .dataframe thead th {\n",
       "        text-align: right;\n",
       "    }\n",
       "</style>\n",
       "<table border=\"1\" class=\"dataframe\">\n",
       "  <thead>\n",
       "    <tr style=\"text-align: right;\">\n",
       "      <th></th>\n",
       "      <th>index</th>\n",
       "      <th>Male_count</th>\n",
       "      <th>Female_count</th>\n",
       "    </tr>\n",
       "  </thead>\n",
       "  <tbody>\n",
       "    <tr>\n",
       "      <th>14</th>\n",
       "      <td>BLR</td>\n",
       "      <td>62.0</td>\n",
       "      <td>77.0</td>\n",
       "    </tr>\n",
       "    <tr>\n",
       "      <th>22</th>\n",
       "      <td>CHN</td>\n",
       "      <td>335.0</td>\n",
       "      <td>654.0</td>\n",
       "    </tr>\n",
       "    <tr>\n",
       "      <th>68</th>\n",
       "      <td>JAM</td>\n",
       "      <td>71.0</td>\n",
       "      <td>86.0</td>\n",
       "    </tr>\n",
       "    <tr>\n",
       "      <th>80</th>\n",
       "      <td>LIE</td>\n",
       "      <td>4.0</td>\n",
       "      <td>5.0</td>\n",
       "    </tr>\n",
       "    <tr>\n",
       "      <th>103</th>\n",
       "      <td>PER</td>\n",
       "      <td>3.0</td>\n",
       "      <td>12.0</td>\n",
       "    </tr>\n",
       "    <tr>\n",
       "      <th>107</th>\n",
       "      <td>PRK</td>\n",
       "      <td>33.0</td>\n",
       "      <td>34.0</td>\n",
       "    </tr>\n",
       "    <tr>\n",
       "      <th>110</th>\n",
       "      <td>ROU</td>\n",
       "      <td>298.0</td>\n",
       "      <td>355.0</td>\n",
       "    </tr>\n",
       "    <tr>\n",
       "      <th>115</th>\n",
       "      <td>SGP</td>\n",
       "      <td>2.0</td>\n",
       "      <td>7.0</td>\n",
       "    </tr>\n",
       "    <tr>\n",
       "      <th>138</th>\n",
       "      <td>UKR</td>\n",
       "      <td>94.0</td>\n",
       "      <td>105.0</td>\n",
       "    </tr>\n",
       "  </tbody>\n",
       "</table>\n",
       "</div>"
      ],
      "text/plain": [
       "    index  Male_count  Female_count\n",
       "14    BLR        62.0          77.0\n",
       "22    CHN       335.0         654.0\n",
       "68    JAM        71.0          86.0\n",
       "80    LIE         4.0           5.0\n",
       "103   PER         3.0          12.0\n",
       "107   PRK        33.0          34.0\n",
       "110   ROU       298.0         355.0\n",
       "115   SGP         2.0           7.0\n",
       "138   UKR        94.0         105.0"
      ]
     },
     "execution_count": 104,
     "metadata": {},
     "output_type": "execute_result"
    }
   ],
   "source": [
    "#gender_info = pd.DataFrame(athlete_info.Team.value_counts().reset_index().values, columns=[\"Year\", \"AggregateCrime\"])\n",
    "#gender_info = pd.DataFrame({'count' : athlete_info.groupby( [ \"Team\", \"Sex\"] ).size()}).reset_index()\n",
    "medalists = athlete_info[(athlete_info.Medal==\"Gold\") | (athlete_info.Medal==\"Silver\") | (athlete_info.Medal==\"Bronze\")]\n",
    "gender_info = pd.DataFrame({'Male_count':medalists[(medalists.Sex=='M')].groupby(\"NOC\").size(), 'Female_count':medalists[(medalists.Sex=='F')].groupby(\"NOC\").size()}).reset_index()\n",
    "gender_info[(gender_info.Female_count>gender_info.Male_count)]"
   ]
  },
  {
   "cell_type": "markdown",
   "metadata": {
    "colab_type": "text",
    "id": "nau57Y2ZuZ6Y",
    "outputExpanded": false
   },
   "source": [
    "The countries that had more female medalists than male medalists were Belarus, China, Jaimaica, Liechtenstien, Peru, North Korea, Romania, Singapore and Ukraine. "
   ]
  },
  {
   "cell_type": "markdown",
   "metadata": {
    "colab_type": "text",
    "id": "7n5ybXFQcR-g",
    "outputExpanded": false
   },
   "source": [
    "### 10 pt: Which country won the most medal points in each of the 2014 Winter Olympics?\n",
    "Rank each country by a score, where 3 points are assigned for a gold medal, 2 points for silver, and 1 point for bronze."
   ]
  },
  {
   "cell_type": "code",
   "execution_count": 121,
   "metadata": {
    "colab": {},
    "colab_type": "code",
    "id": "FoWTh2ekt8Wp",
    "outputExpanded": false
   },
   "outputs": [
    {
     "name": "stderr",
     "output_type": "stream",
     "text": [
      "/Users/AmyAustin/anaconda3/envs/si618v/lib/python3.6/site-packages/ipykernel_launcher.py:13: SettingWithCopyWarning: \n",
      "A value is trying to be set on a copy of a slice from a DataFrame.\n",
      "Try using .loc[row_indexer,col_indexer] = value instead\n",
      "\n",
      "See the caveats in the documentation: http://pandas.pydata.org/pandas-docs/stable/indexing.html#indexing-view-versus-copy\n",
      "  del sys.path[0]\n"
     ]
    },
    {
     "data": {
      "text/plain": [
       "NOC\n",
       "GER     78.0\n",
       "SWE     99.0\n",
       "USA    114.0\n",
       "RUS    156.0\n",
       "CAN    226.0\n",
       "Name: Points, dtype: float64"
      ]
     },
     "execution_count": 121,
     "metadata": {},
     "output_type": "execute_result"
    }
   ],
   "source": [
    "data_2014 = athlete_info[(athlete_info.Games==\"2014 Winter\")]\n",
    "#data_2014[\"Score\"] = data_2014[\"Medal\"].astype('category')\n",
    "#data_2014.head()\n",
    "def medal_to_points(x):\n",
    "    if x=='Gold':\n",
    "        return 3\n",
    "    if x=='Silver':\n",
    "        return 2\n",
    "    if x=='Bronze':\n",
    "        return 1\n",
    "#df['score_num'] = df['score'].apply(score_to_numeric)\n",
    "#df\n",
    "data_2014['Points'] = data_2014.loc[:,'Medal'].apply(medal_to_points)\n",
    "#print(data_2014.tail(20))\n",
    "data_2014.groupby(['NOC'])['Points'].sum().sort_values().tail()"
   ]
  },
  {
   "cell_type": "markdown",
   "metadata": {
    "colab_type": "text",
    "id": "lGrRhr22uan4",
    "outputExpanded": false
   },
   "source": [
    "Canada won the most medal points in the 2014 Winter Olympics. They won 226 points, which was much higher than other teams coming in second and third, which were Russia (having 156 points) and USA (receiving 114 points). Canada won a gold in hockey, which was a team event, so every player was awarded a medal. This could potentially be the reason why they were awarded so many more points than the other teams. "
   ]
  },
  {
   "cell_type": "markdown",
   "metadata": {
    "colab_type": "text",
    "id": "l8k4nqgfeFJb",
    "outputExpanded": false
   },
   "source": [
    "### 20 pt: For each year in which games were held, what proportion of gold medals did the host country win? \n",
    "You will need to combine multiple datasets to complete the analysis.  "
   ]
  },
  {
   "cell_type": "code",
   "execution_count": 344,
   "metadata": {},
   "outputs": [],
   "source": [
    "summer_olympic_cities = pd.read_html('http://en.wikipedia.org/wiki/Summer_Olympic_Games#List_of_Summer_Olympic_Games', match='.+', flavor=None, header=None, index_col=None,  skiprows=None, attrs=None, parse_dates=False, tupleize_cols=None, thousands=', ', encoding=None, decimal='.', converters=None, na_values=None, keep_default_na=True, displayed_only=True)\n",
    "s_city_info = summer_olympic_cities[7]\n",
    "s_headers = s_city_info.iloc[0]\n",
    "s_city_info = s_city_info[2:]\n",
    "s_city_info.columns = s_headers\n",
    "s_city_info.columns.values[12] = \"winner\"\n",
    "s_city_info.columns.values[13] = \"etc\"\n",
    "s_city_info = s_city_info.rename(columns={'Olympiad': 'Games'})\n",
    "s_city_info = s_city_info.dropna(axis=0, subset=['Dates'])\n",
    "s_city_info['Host'] = s_city_info['Host'].str.split(',')\n",
    "s_city_info['Host'] = s_city_info['Host'].apply(lambda x:x[1])\n",
    "s_city_info['Year'] = s_city_info['Year'].astype(str).astype(int)\n",
    "#s_city_info['New_host']=s_city_info['Host'][:]\n",
    "#s_city_info[['Host','Country']] = s_city_info['Host'].str.split(',',expand=True)"
   ]
  },
  {
   "cell_type": "code",
   "execution_count": 296,
   "metadata": {},
   "outputs": [],
   "source": [
    "winter_olympic_cities = pd.read_html('http://en.wikipedia.org/wiki/Winter_Olympic_Games#List_of_Winter_Olympic_Games', match='.+', flavor=None, header=None, index_col=None,  skiprows=None, attrs=None, parse_dates=False, tupleize_cols=None, thousands=', ', encoding=None, decimal='.', converters=None, na_values=None, keep_default_na=True, displayed_only=True)\n",
    "w_city_info = winter_olympic_cities[4]\n",
    "w_headers = w_city_info.iloc[0]\n",
    "w_city_info = w_city_info[2:]\n",
    "w_city_info.columns = w_headers\n",
    "w_city_info.columns.values[12] = \"winner\"\n",
    "w_city_info.columns.values[13] = \"etc\"\n",
    "w_city_info = w_city_info.rename(columns={'Disci-plines': 'Disciplines'})\n",
    "w_city_info = w_city_info.rename(columns={'Top Nation': 'Top nation'})\n",
    "w_city_info = w_city_info.dropna(axis=0, subset=['Dates'])\n",
    "w_city_info['Host'] = w_city_info['Host'].str.split(',')\n",
    "w_city_info['Host'] = w_city_info['Host'].apply(lambda x:x[1])\n",
    "w_city_info['Year'] = w_city_info['Year'].astype(str).astype(int)\n"
   ]
  },
  {
   "cell_type": "code",
   "execution_count": 350,
   "metadata": {
    "colab": {},
    "colab_type": "code",
    "id": "zOlDIr9zt81i",
    "outputExpanded": false
   },
   "outputs": [],
   "source": [
    "gold_medals_summer = athlete_info[(athlete_info.Medal==\"Gold\") & (athlete_info.Season==\"Summer\")]\n",
    "gold_medals_winter = athlete_info[(athlete_info.Medal==\"Gold\") & (athlete_info.Season==\"Winter\")]\n"
   ]
  },
  {
   "cell_type": "code",
   "execution_count": 383,
   "metadata": {},
   "outputs": [],
   "source": [
    "#country_sport_df = country_df.merge(sport_df, on='country_id', how='inner')\n",
    "#country_university_df = university_df.merge(sport_df, on='country_id', how='inner').drop(['country_id', 'sport_id', 'university_id'], axis=1)\n",
    "new_gold_medals_summer = gold_medals_summer.merge(region_info, how='inner', on='NOC')\n",
    "#new_gold_medals_summer.head()\n",
    "new_gold_medals_winter = gold_medals_winter.merge(region_info, how='inner', on='NOC')\n",
    "\n",
    "\n",
    "#SUMMER\n",
    "s_gold_host = new_gold_medals_summer.merge(s_city_info, how='inner', on='Year')\n",
    "s_gold_host['region'] = s_gold_host['region'].str.strip()\n",
    "s_gold_host['Host'] = s_gold_host['Host'].str.strip()\n",
    "s_gold_host['Team'] = s_gold_host['Team'].str.strip()\n",
    "sum_gold=s_gold_host.drop(columns=['Age','Height','Weight','Competitors','Sports','Disciplines','Event', 'Dates','Nations', 'Events','etc','notes','Opened by'])\n",
    "sum_gold.head()\n",
    "\n",
    "\n",
    "#WINTER\n",
    "w_gold_host = new_gold_medals_winter.merge(w_city_info, how='inner', on='Year')\n",
    "w_gold_host['region'] = w_gold_host['region'].str.strip()\n",
    "w_gold_host['Host'] = w_gold_host['Host'].str.strip()\n",
    "w_gold_host['Team'] = w_gold_host['Team'].str.strip()\n",
    "wint_gold=w_gold_host.drop(columns=['Age','Height','Weight','Competitors','Sports','Disciplines','Event', 'Dates','Nations', 'Events','etc','notes','Opened by'])\n",
    "#wint_gold.head()\n"
   ]
  },
  {
   "cell_type": "code",
   "execution_count": 388,
   "metadata": {},
   "outputs": [],
   "source": [
    "#sum_gold['Team'] = np.where(sum_gold['Team'] == 'United States', 'USA')\n",
    "\n",
    "sum_gold.loc[sum_gold['Team'] == 'United States', 'Team'] = 'USA'\n",
    "sum_gold.loc[sum_gold['Host'] == 'United States', 'Host'] = 'USA'\n",
    "sum_gold['match'] = np.where(sum_gold['Host'] == sum_gold['region'], 1,0)\n",
    "summer_match = sum_gold[(sum_gold.match==1)]\n",
    "\n",
    "\n",
    "wint_gold.loc[wint_gold['Team'] == 'United States', 'Team'] = 'USA'\n",
    "wint_gold.loc[wint_gold['Host'] == 'United States', 'Host'] = 'USA'\n",
    "wint_gold['match'] = np.where(wint_gold['Host'] == wint_gold['region'], 1,0)\n",
    "winter_match = wint_gold[(wint_gold.match==1)]"
   ]
  },
  {
   "cell_type": "code",
   "execution_count": 385,
   "metadata": {},
   "outputs": [
    {
     "name": "stdout",
     "output_type": "stream",
     "text": [
      "      match\n",
      "Year       \n",
      "1896     10\n",
      "1900     52\n",
      "1904    128\n",
      "1912    103\n",
      "1920     57\n",
      "1924     37\n",
      "1928     20\n",
      "1932     81\n",
      "1936     93\n",
      "1952      8\n",
      "1956     28\n",
      "1960     36\n",
      "1964     32\n",
      "1968      3\n",
      "1984    186\n",
      "1988     28\n",
      "1992     48\n",
      "1996    159\n",
      "2000     60\n",
      "2004      8\n",
      "2008     74\n",
      "2016     36\n"
     ]
    }
   ],
   "source": [
    "#WINTER HOST WINNER TOTALS\n",
    "sums_match_w = winter_match.groupby(['Year'])['match'].count()\n",
    "match_wint = pd.DataFrame(sums_match_w)\n",
    "\n",
    "#SUMMER HOST WINNER TOTALS\n",
    "sums_match_s = summer_match.groupby(['Year'])['match'].count()\n",
    "match_sum = pd.DataFrame(sums_match_s)\n",
    "print(match_sum)"
   ]
  },
  {
   "cell_type": "code",
   "execution_count": 389,
   "metadata": {},
   "outputs": [],
   "source": [
    "count_year_winter = wint_gold.groupby(['Year'])['Medal'].count()\n",
    "total_wint = pd.DataFrame(count_year_winter)\n",
    "count_year_summer = sum_gold.groupby(['Year'])['Medal'].count()\n",
    "total_sum = pd.DataFrame(count_year_summer)"
   ]
  },
  {
   "cell_type": "code",
   "execution_count": 390,
   "metadata": {},
   "outputs": [
    {
     "name": "stdout",
     "output_type": "stream",
     "text": [
      "FINAL SUMMER TABLE OF PROPORTIONS\n",
      "      Medal  match  Proportion\n",
      "Year                          \n",
      "1896     62   10.0    0.161290\n",
      "1900    201   52.0    0.258706\n",
      "1904    173  128.0    0.739884\n",
      "1908    294    0.0    0.000000\n",
      "1912    326  103.0    0.315951\n",
      "1920    493   57.0    0.115619\n",
      "1924    277   37.0    0.133574\n",
      "1928    245   20.0    0.081633\n",
      "1932    229   81.0    0.353712\n",
      "1936    312   93.0    0.298077\n",
      "1948    289    0.0    0.000000\n",
      "1952    306    8.0    0.026144\n",
      "1956    302   28.0    0.092715\n",
      "1960    309   36.0    0.116505\n",
      "1964    347   32.0    0.092219\n",
      "1968    359    3.0    0.008357\n",
      "1972    404    0.0    0.000000\n",
      "1976    438    0.0    0.000000\n",
      "1980    457    0.0    0.000000\n",
      "1984    497  186.0    0.374245\n",
      "1988    520   28.0    0.053846\n",
      "1992    559   48.0    0.085868\n",
      "1996    608  159.0    0.261513\n",
      "2000    663   60.0    0.090498\n",
      "2004    664    8.0    0.012048\n",
      "2008    671   74.0    0.110283\n",
      "2012    632    0.0    0.000000\n",
      "2016    664   36.0    0.054217\n",
      "\n",
      "FINAL WINTER TABLE OF PROPORTIONS\n",
      "      Medal  match  Proportion\n",
      "Year                          \n",
      "1924     55    0.0    0.000000\n",
      "1928     30    0.0    0.000000\n",
      "1932     32   10.0    0.312500\n",
      "1936     36    4.0    0.111111\n",
      "1948     41    4.0    0.097561\n",
      "1952     45    7.0    0.155556\n",
      "1956     51    2.0    0.039216\n",
      "1960     50   19.0    0.380000\n",
      "1964     61    5.0    0.081967\n",
      "1968     66    4.0    0.060606\n",
      "1972     70    1.0    0.014286\n",
      "1976     70    2.0    0.028571\n",
      "1980     72   24.0    0.333333\n",
      "1984     74    0.0    0.000000\n",
      "1988     87    0.0    0.000000\n",
      "1992    104    5.0    0.048077\n",
      "1994    110    8.0    0.072727\n",
      "1998    145    8.0    0.055172\n",
      "2002    162   11.0    0.067901\n",
      "2006    176   11.0    0.062500\n",
      "2010    174   67.0    0.385057\n",
      "2014    202   33.0    0.163366\n"
     ]
    }
   ],
   "source": [
    "#merged summer\n",
    "last_summer = total_sum.merge(match_sum, how='outer', on='Year')\n",
    "new_summer = last_summer.fillna(0)\n",
    "new_summer[\"Proportion\"] = new_summer['match']/new_summer['Medal']\n",
    "print('FINAL SUMMER TABLE OF PROPORTIONS')\n",
    "print(new_summer)\n",
    "print('')\n",
    "#merged winter\n",
    "last_winter = total_wint.merge(match_wint, how='outer', on='Year')\n",
    "new_winter = last_winter.fillna(0)\n",
    "new_winter[\"Proportion\"] = new_winter['match']/new_winter['Medal']\n",
    "print('FINAL WINTER TABLE OF PROPORTIONS')\n",
    "print(new_winter)"
   ]
  },
  {
   "cell_type": "code",
   "execution_count": 392,
   "metadata": {},
   "outputs": [],
   "source": [
    "#print(new_summer.describe())\n",
    "#print(new_winter.describe())"
   ]
  },
  {
   "cell_type": "markdown",
   "metadata": {
    "colab_type": "text",
    "id": "R9dYAutxubGJ",
    "outputExpanded": false
   },
   "source": [
    "The proportion of golds won by the host team are listed above in the two tables, one covers the summer Olympics and one has information on the winter Olympics. \n",
    "\n",
    "Overall, the average number of medals won by the host team was .14 in the summer games and .11 in the winter games. The highest proportions were .74 for summer games and .39 for winter games. "
   ]
  },
  {
   "cell_type": "markdown",
   "metadata": {
    "outputExpanded": false
   },
   "source": [
    "## Please submit your completed notebook in .IPYNB and .HTML formats via Canvas"
   ]
  },
  {
   "cell_type": "code",
   "execution_count": null,
   "metadata": {
    "outputExpanded": false
   },
   "outputs": [],
   "source": []
  }
 ],
 "metadata": {
  "colab": {
   "collapsed_sections": [],
   "name": "618_HW1.ipynb",
   "provenance": [],
   "version": "0.3.2"
  },
  "kernel_info": {
   "name": "python3"
  },
  "kernelspec": {
   "display_name": "Python 3",
   "language": "python",
   "name": "python3"
  },
  "language_info": {
   "codemirror_mode": {
    "name": "ipython",
    "version": 3
   },
   "file_extension": ".py",
   "mimetype": "text/x-python",
   "name": "python",
   "nbconvert_exporter": "python",
   "pygments_lexer": "ipython3",
   "version": "3.6.5"
  }
 },
 "nbformat": 4,
 "nbformat_minor": 2
}
